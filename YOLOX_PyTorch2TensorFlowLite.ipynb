{
  "nbformat": 4,
  "nbformat_minor": 0,
  "metadata": {
    "colab": {
      "name": "YOLOX_PyTorch2TensorFlowLite.ipynb",
      "provenance": []
    },
    "kernelspec": {
      "display_name": "Python 3",
      "name": "python3"
    },
    "language_info": {
      "name": "python"
    },
    "accelerator": "GPU"
  },
  "cells": [
    {
      "cell_type": "markdown",
      "source": [
        "# パッケージインストール"
      ],
      "metadata": {
        "id": "Oc9zpOOBWSro"
      }
    },
    {
      "cell_type": "code",
      "source": [
        "!pip install onnxruntime"
      ],
      "metadata": {
        "id": "lOrbuNHrVzd-"
      },
      "execution_count": null,
      "outputs": []
    },
    {
      "cell_type": "markdown",
      "metadata": {
        "id": "tVIz0KMAzKlz"
      },
      "source": [
        "# YOLOXクローン"
      ]
    },
    {
      "cell_type": "code",
      "metadata": {
        "id": "xy8IwNfFzJ6p"
      },
      "source": [
        "!git clone https://github.com/Megvii-BaseDetection/YOLOX"
      ],
      "execution_count": null,
      "outputs": []
    },
    {
      "cell_type": "code",
      "metadata": {
        "id": "E4DYW2k_zOIa"
      },
      "source": [
        "%cd YOLOX\n",
        "\n",
        "!pip install -U pip && pip install -r requirements.txt\n",
        "!pip install -v -e ."
      ],
      "execution_count": null,
      "outputs": []
    },
    {
      "cell_type": "markdown",
      "metadata": {
        "id": "WLgbQpo1zAEd"
      },
      "source": [
        "# モデルダウンロード"
      ]
    },
    {
      "cell_type": "code",
      "metadata": {
        "id": "YPrDTr63ym-d"
      },
      "source": [
        "!wget https://github.com/Megvii-BaseDetection/YOLOX/releases/download/0.1.1rc0/yolox_nano.pth"
      ],
      "execution_count": null,
      "outputs": []
    },
    {
      "cell_type": "markdown",
      "metadata": {
        "id": "w5TrjScPB3Ts"
      },
      "source": [
        "# コンフィグコピー"
      ]
    },
    {
      "cell_type": "code",
      "metadata": {
        "id": "H4X-I0uMB5Iz"
      },
      "source": [
        "!git clone https://github.com/Kazuhito00/YOLOX-ONNX-TFLite-Sample.git"
      ],
      "execution_count": null,
      "outputs": []
    },
    {
      "cell_type": "code",
      "metadata": {
        "id": "QwmTJc49CC8Z"
      },
      "source": [
        "!cp YOLOX-ONNX-TFLite-Sample/config/nano.py ./"
      ],
      "execution_count": 6,
      "outputs": []
    },
    {
      "cell_type": "markdown",
      "metadata": {
        "id": "k812B3vYzb2h"
      },
      "source": [
        "# ONNX出力(Export ONNX Model)"
      ]
    },
    {
      "cell_type": "code",
      "metadata": {
        "id": "v4UwoXaLzfpN"
      },
      "source": [
        "!python tools/export_onnx.py \\\n",
        "    -n yolox-nano \\\n",
        "    -c yolox_nano.pth \\\n",
        "    --output-name yolox_nano.onnx"
      ],
      "execution_count": null,
      "outputs": []
    },
    {
      "cell_type": "markdown",
      "metadata": {
        "id": "H8ONesOsCyJn"
      },
      "source": [
        "# ONNX -> TensorFlow 変換"
      ]
    },
    {
      "cell_type": "code",
      "metadata": {
        "id": "7dIGlOKU-t5C"
      },
      "source": [
        "!pip install onnx-tf"
      ],
      "execution_count": null,
      "outputs": []
    },
    {
      "cell_type": "code",
      "metadata": {
        "id": "TxCb1IIyCz6D"
      },
      "source": [
        "!onnx-tf convert \\\n",
        "    -i yolox_nano.onnx \\\n",
        "    -o yolox_nano_pb"
      ],
      "execution_count": null,
      "outputs": []
    },
    {
      "cell_type": "markdown",
      "metadata": {
        "id": "J5gMlxAUC4bf"
      },
      "source": [
        "# TensorFlow -> TensorFlow-Lite 変換"
      ]
    },
    {
      "cell_type": "code",
      "metadata": {
        "id": "Sh6C9z-kC17q"
      },
      "source": [
        "!pip install tf-nightly"
      ],
      "execution_count": null,
      "outputs": []
    },
    {
      "cell_type": "code",
      "metadata": {
        "id": "TWDP9-6NC6Yb"
      },
      "source": [
        "import tensorflow as tf"
      ],
      "execution_count": 11,
      "outputs": []
    },
    {
      "cell_type": "code",
      "metadata": {
        "id": "zR0Ck-DzC8Q1"
      },
      "source": [
        "# ダイナミックレンジ量子化\n",
        "converter = tf.lite.TFLiteConverter.from_saved_model('yolox_nano_pb')\n",
        "converter.optimizations = [tf.lite.Optimize.DEFAULT]\n",
        "tflite_quantized_model = converter.convert()\n",
        "\n",
        "open('yolox_nano_dynamic_range_quantize.tflite', 'wb').write(tflite_quantized_model)"
      ],
      "execution_count": null,
      "outputs": []
    },
    {
      "cell_type": "code",
      "metadata": {
        "id": "uNu1-pT3C96M"
      },
      "source": [
        "# 半精度浮動小数点数の量子化\n",
        "converter = tf.lite.TFLiteConverter.from_saved_model('yolox_nano_pb')\n",
        "converter.optimizations = [tf.lite.Optimize.DEFAULT]\n",
        "converter.target_spec.supported_types = [tf.float16]\n",
        "tflite_quantized_model = converter.convert()\n",
        "\n",
        "open('yolox_nano_float16_quantize.tflite', 'wb').write(tflite_quantized_model)"
      ],
      "execution_count": null,
      "outputs": []
    },
    {
      "cell_type": "code",
      "metadata": {
        "id": "oZLiOIyIC_Wy"
      },
      "source": [
        "# 完全整数量子化\n",
        "import glob\n",
        "import numpy as np\n",
        "from PIL import Image\n",
        "\n",
        "image_pathlist = glob.glob('/content/YOLOX-ONNX-TFLite-Sample/representative_dataset/*.jpg')\n",
        "image_pathlist = image_pathlist[:100]\n",
        "\n",
        "def representative_dataset():\n",
        "    for test_image_path in image_pathlist:\n",
        "        image = np.array(Image.open(test_image_path))\n",
        "        image = image.astype('float32')\n",
        "        image = tf.image.resize(image, (416, 416))\n",
        "        image = image - 127.5\n",
        "        image = image * 0.007843\n",
        "        image = tf.transpose(image, perm=[2, 0, 1])\n",
        "        image = tf.reshape(image, [1, 3, 416, 416])\n",
        "        yield [image]\n",
        "\n",
        "converter = tf.lite.TFLiteConverter.from_saved_model('yolox_nano_pb')\n",
        "converter.optimizations = [tf.lite.Optimize.DEFAULT]\n",
        "converter.representative_dataset = representative_dataset\n",
        "tflite_quantized_model = converter.convert()\n",
        "\n",
        "open('yolox_nano_int8_quantize.tflite', 'wb').write(tflite_quantized_model)"
      ],
      "execution_count": null,
      "outputs": []
    },
    {
      "cell_type": "code",
      "metadata": {
        "id": "dlaP53KKDIFt"
      },
      "source": [
        "\n",
        "# 完全整数量子化(入力含む)\n",
        "import glob\n",
        "import numpy as np\n",
        "from PIL import Image\n",
        "\n",
        "image_pathlist = glob.glob('/content/YOLOX-ONNX-TFLite-Sample/representative_dataset/*.jpg')\n",
        "image_pathlist = image_pathlist[:100]\n",
        "\n",
        "def representative_dataset():\n",
        "    for test_image_path in image_pathlist:\n",
        "        image = np.array(Image.open(test_image_path))\n",
        "        image = image.astype('float32')\n",
        "        image = tf.image.resize(image, (416, 416))\n",
        "        image = image - 127.5\n",
        "        image = image * 0.007843\n",
        "        image = tf.transpose(image, perm=[2, 0, 1])\n",
        "        image = tf.reshape(image, [1, 3, 416, 416])\n",
        "        yield [image]\n",
        "\n",
        "converter = tf.lite.TFLiteConverter.from_saved_model('yolox_nano_pb')\n",
        "converter.optimizations = [tf.lite.Optimize.DEFAULT]\n",
        "converter.representative_dataset = representative_dataset\n",
        "converter.target_spec.supported_ops = [tf.lite.OpsSet.TFLITE_BUILTINS_INT8]\n",
        "converter.inference_input_type = tf.int8  # or tf.uint8\n",
        "converter.inference_output_type = tf.int8  # or tf.uint8\n",
        "tflite_quantized_model = converter.convert()\n",
        "\n",
        "open('yolox_nano_only_int8_quantize.tflite', 'wb').write(tflite_quantized_model)"
      ],
      "execution_count": null,
      "outputs": []
    }
  ]
}